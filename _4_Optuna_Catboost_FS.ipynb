{
 "cells": [
  {
   "cell_type": "code",
   "execution_count": 1,
   "metadata": {
    "executionInfo": {
     "elapsed": 379,
     "status": "ok",
     "timestamp": 1643195725139,
     "user": {
      "displayName": "Aleksandra Skachkova",
      "photoUrl": "https://lh3.googleusercontent.com/a/default-user=s64",
      "userId": "00039765151104455837"
     },
     "user_tz": -180
    },
    "id": "lnuEsc-VXmtz"
   },
   "outputs": [],
   "source": [
    "import pandas as pd\n",
    "import matplotlib.pyplot as plt\n",
    "import numpy as np\n",
    "import pickle\n",
    "import json"
   ]
  },
  {
   "cell_type": "code",
   "execution_count": 2,
   "metadata": {
    "executionInfo": {
     "elapsed": 3024,
     "status": "ok",
     "timestamp": 1643195743467,
     "user": {
      "displayName": "Aleksandra Skachkova",
      "photoUrl": "https://lh3.googleusercontent.com/a/default-user=s64",
      "userId": "00039765151104455837"
     },
     "user_tz": -180
    },
    "id": "inzWpyTwX7ha"
   },
   "outputs": [],
   "source": [
    "import optuna\n",
    "from sklearn.metrics import log_loss\n",
    "from catboost import CatBoostRegressor"
   ]
  },
  {
   "cell_type": "code",
   "execution_count": 3,
   "metadata": {},
   "outputs": [],
   "source": [
    "import warnings\n",
    "warnings.filterwarnings(\"ignore\")"
   ]
  },
  {
   "cell_type": "code",
   "execution_count": 4,
   "metadata": {
    "executionInfo": {
     "elapsed": 2,
     "status": "ok",
     "timestamp": 1643195728074,
     "user": {
      "displayName": "Aleksandra Skachkova",
      "photoUrl": "https://lh3.googleusercontent.com/a/default-user=s64",
      "userId": "00039765151104455837"
     },
     "user_tz": -180
    },
    "id": "bNJqnYUaXo9F"
   },
   "outputs": [],
   "source": [
    "pd.set_option('display.max_columns', None)"
   ]
  },
  {
   "cell_type": "code",
   "execution_count": 5,
   "metadata": {
    "executionInfo": {
     "elapsed": 4,
     "status": "ok",
     "timestamp": 1643195743467,
     "user": {
      "displayName": "Aleksandra Skachkova",
      "photoUrl": "https://lh3.googleusercontent.com/a/default-user=s64",
      "userId": "00039765151104455837"
     },
     "user_tz": -180
    },
    "id": "_TqQx2ERgTD8"
   },
   "outputs": [],
   "source": [
    "def MAE(y_true, y_pred):\n",
    "    y_true, y_pred = np.array(y_true), np.array(y_pred)\n",
    "    return np.mean(np.abs(y_true - y_pred))"
   ]
  },
  {
   "cell_type": "code",
   "execution_count": 6,
   "metadata": {
    "executionInfo": {
     "elapsed": 4,
     "status": "ok",
     "timestamp": 1643195743468,
     "user": {
      "displayName": "Aleksandra Skachkova",
      "photoUrl": "https://lh3.googleusercontent.com/a/default-user=s64",
      "userId": "00039765151104455837"
     },
     "user_tz": -180
    },
    "id": "_EiKUG-RgUG6"
   },
   "outputs": [],
   "source": [
    "def MSE(y_true, y_pred):\n",
    "    y_true, y_pred = np.array(y_true), np.array(y_pred)\n",
    "    return np.mean((y_true - y_pred)**2)"
   ]
  },
  {
   "cell_type": "code",
   "execution_count": 7,
   "metadata": {
    "executionInfo": {
     "elapsed": 4,
     "status": "ok",
     "timestamp": 1643195743468,
     "user": {
      "displayName": "Aleksandra Skachkova",
      "photoUrl": "https://lh3.googleusercontent.com/a/default-user=s64",
      "userId": "00039765151104455837"
     },
     "user_tz": -180
    },
    "id": "8OFPUbF_gXCf"
   },
   "outputs": [],
   "source": [
    "def RMSE(y_true, y_pred):\n",
    "    return np.sqrt(MSE(y_true, y_pred))"
   ]
  },
  {
   "cell_type": "code",
   "execution_count": 8,
   "metadata": {
    "executionInfo": {
     "elapsed": 2,
     "status": "ok",
     "timestamp": 1643195746934,
     "user": {
      "displayName": "Aleksandra Skachkova",
      "photoUrl": "https://lh3.googleusercontent.com/a/default-user=s64",
      "userId": "00039765151104455837"
     },
     "user_tz": -180
    },
    "id": "HucR0B7cgZ0X"
   },
   "outputs": [],
   "source": [
    "def R2(y_true, y_pred):\n",
    "    y_true, y_pred = np.array(y_true), np.array(y_pred)\n",
    "    return(1-np.sum((y_true - y_pred)**2)/np.sum((y_true - y_true.mean())**2))"
   ]
  },
  {
   "cell_type": "code",
   "execution_count": 9,
   "metadata": {
    "executionInfo": {
     "elapsed": 2,
     "status": "ok",
     "timestamp": 1643195747677,
     "user": {
      "displayName": "Aleksandra Skachkova",
      "photoUrl": "https://lh3.googleusercontent.com/a/default-user=s64",
      "userId": "00039765151104455837"
     },
     "user_tz": -180
    },
    "id": "OQG5sQaccazN"
   },
   "outputs": [],
   "source": [
    "\n",
    "def objective(trial, df, features, split_dict):\n",
    "    param_grid = {\n",
    "        \"n_estimators\": trial.suggest_int(\"n_estimators\", 1000, 5000),\n",
    "        \"loss_function\": trial.suggest_categorical(\"loss_function\", [\"RMSE\", \"MAE\"]),\n",
    "        \"learning_rate\": trial.suggest_loguniform(\"learning_rate\", 1e-5, 1e0),\n",
    "        \"l2_leaf_reg\": trial.suggest_loguniform(\"l2_leaf_reg\", 1e-2, 1e0),\n",
    "        \"colsample_bylevel\": trial.suggest_float(\"colsample_bylevel\", 0.01, 0.1),\n",
    "        \"depth\": trial.suggest_int(\"depth\", 1, 10),\n",
    "        \"boosting_type\": trial.suggest_categorical(\"boosting_type\", [\"Ordered\", \"Plain\"]),\n",
    "        \"bootstrap_type\": trial.suggest_categorical(\"bootstrap_type\", [\"Bayesian\", \"Bernoulli\", \"MVS\"]),\n",
    "        \"min_data_in_leaf\": trial.suggest_int(\"min_data_in_leaf\", 2, 20),\n",
    "        \"one_hot_max_size\": trial.suggest_int(\"one_hot_max_size\", 2, 20)\n",
    "    }\n",
    "\n",
    "    cv_scores = []\n",
    "    \n",
    "    for year, (train_idx, valid_idx) in split_dict.items():\n",
    "        X_train, X_valid = df.loc[df.Field_ID.isin(train_idx), features].values, df.loc[df.Field_ID.isin(valid_idx), features].values\n",
    "        y_train, y_valid = df.loc[df.Field_ID.isin(train_idx)].Yield.values, df.loc[df.Field_ID.isin(valid_idx)].Yield.values\n",
    "\n",
    "        model = CatBoostRegressor(**param_grid, random_state=42)\n",
    "        model.fit(\n",
    "              X_train,\n",
    "              y_train,\n",
    "              eval_set=[(X_valid, y_valid)],\n",
    "              verbose=False\n",
    "          )\n",
    "        preds = model.predict(X_valid)\n",
    "        cv_scores.append(RMSE(preds, y_valid))\n",
    "        print('{}, RMSE: {:.3f}'.format(year, np.mean(cv_scores)))\n",
    "    \n",
    "    print()\n",
    "\n",
    "    return np.mean(cv_scores)"
   ]
  },
  {
   "cell_type": "markdown",
   "metadata": {
    "id": "9i2rIqznbHDs",
    "tags": []
   },
   "source": [
    "# Data"
   ]
  },
  {
   "cell_type": "code",
   "execution_count": 10,
   "metadata": {},
   "outputs": [],
   "source": [
    "data = pd.read_csv('./csv/data_norm.csv')"
   ]
  },
  {
   "cell_type": "code",
   "execution_count": 11,
   "metadata": {},
   "outputs": [
    {
     "data": {
      "text/plain": [
       "dict_keys(['train_ids', 'test_ids', 'year_split'])"
      ]
     },
     "execution_count": 11,
     "metadata": {},
     "output_type": "execute_result"
    }
   ],
   "source": [
    "# load dict of ids for splitting \n",
    "with open(\"./csv/split.json\", \"r\") as read_file:\n",
    "    split = json.load(read_file)\n",
    "split.keys()"
   ]
  },
  {
   "cell_type": "code",
   "execution_count": 12,
   "metadata": {},
   "outputs": [
    {
     "data": {
      "text/plain": [
       "dict_keys(['features', 'RMSE', 'R2', 'score'])"
      ]
     },
     "execution_count": 12,
     "metadata": {},
     "output_type": "execute_result"
    }
   ],
   "source": [
    "# load dict of features groups\n",
    "with open(\"./csv/feature_selection.json\", \"r\") as read_file:\n",
    "    features_dict = json.load(read_file)\n",
    "features_dict.keys()"
   ]
  },
  {
   "cell_type": "code",
   "execution_count": 13,
   "metadata": {},
   "outputs": [],
   "source": [
    "features = features_dict['features']"
   ]
  },
  {
   "cell_type": "code",
   "execution_count": 14,
   "metadata": {},
   "outputs": [
    {
     "data": {
      "text/plain": [
       "357"
      ]
     },
     "execution_count": 14,
     "metadata": {},
     "output_type": "execute_result"
    }
   ],
   "source": [
    "len(features)"
   ]
  },
  {
   "cell_type": "code",
   "execution_count": 15,
   "metadata": {},
   "outputs": [],
   "source": [
    "data = data.loc[data.Field_ID.isin(split['train_ids'])]"
   ]
  },
  {
   "cell_type": "code",
   "execution_count": 16,
   "metadata": {},
   "outputs": [],
   "source": [
    "box = data.copy()\n",
    "box[features] = data[features].fillna(data[features].mean())"
   ]
  },
  {
   "cell_type": "code",
   "execution_count": 17,
   "metadata": {
    "colab": {
     "base_uri": "https://localhost:8080/"
    },
    "executionInfo": {
     "elapsed": 172868,
     "status": "ok",
     "timestamp": 1643195929850,
     "user": {
      "displayName": "Aleksandra Skachkova",
      "photoUrl": "https://lh3.googleusercontent.com/a/default-user=s64",
      "userId": "00039765151104455837"
     },
     "user_tz": -180
    },
    "id": "KKDnJoAvcQWi",
    "outputId": "5766f806-b547-4151-e148-7809235006b8",
    "tags": []
   },
   "outputs": [
    {
     "name": "stderr",
     "output_type": "stream",
     "text": [
      "\u001b[32m[I 2022-04-20 19:30:28,218]\u001b[0m A new study created in memory with name: Catboost Regressor\u001b[0m\n"
     ]
    },
    {
     "name": "stdout",
     "output_type": "stream",
     "text": [
      "2019, RMSE: 1.795\n",
      "2018, RMSE: 1.761\n",
      "2017, RMSE: 1.700\n"
     ]
    },
    {
     "name": "stderr",
     "output_type": "stream",
     "text": [
      "\u001b[32m[I 2022-04-20 19:38:43,392]\u001b[0m Trial 0 finished with value: 1.6505924162300438 and parameters: {'n_estimators': 1211, 'loss_function': 'MAE', 'learning_rate': 0.04198105847130205, 'l2_leaf_reg': 0.07252031790520193, 'colsample_bylevel': 0.050981895111642556, 'depth': 9, 'boosting_type': 'Plain', 'bootstrap_type': 'Bayesian', 'min_data_in_leaf': 19, 'one_hot_max_size': 18}. Best is trial 0 with value: 1.6505924162300438.\u001b[0m\n"
     ]
    },
    {
     "name": "stdout",
     "output_type": "stream",
     "text": [
      "2016, RMSE: 1.651\n",
      "\n",
      "2019, RMSE: 1.803\n",
      "2018, RMSE: 1.757\n",
      "2017, RMSE: 1.693\n"
     ]
    },
    {
     "name": "stderr",
     "output_type": "stream",
     "text": [
      "\u001b[32m[I 2022-04-20 19:49:57,143]\u001b[0m Trial 1 finished with value: 1.6483371428488547 and parameters: {'n_estimators': 3011, 'loss_function': 'MAE', 'learning_rate': 0.0008008515709068984, 'l2_leaf_reg': 0.013948584223279555, 'colsample_bylevel': 0.08155732112121207, 'depth': 7, 'boosting_type': 'Plain', 'bootstrap_type': 'MVS', 'min_data_in_leaf': 17, 'one_hot_max_size': 8}. Best is trial 1 with value: 1.6483371428488547.\u001b[0m\n"
     ]
    },
    {
     "name": "stdout",
     "output_type": "stream",
     "text": [
      "2016, RMSE: 1.648\n",
      "\n",
      "2019, RMSE: 1.750\n",
      "2018, RMSE: 1.718\n",
      "2017, RMSE: 1.666\n"
     ]
    },
    {
     "name": "stderr",
     "output_type": "stream",
     "text": [
      "\u001b[32m[I 2022-04-20 19:58:20,396]\u001b[0m Trial 2 finished with value: 1.617562370183626 and parameters: {'n_estimators': 2990, 'loss_function': 'MAE', 'learning_rate': 0.004847138866427987, 'l2_leaf_reg': 0.020745700675893868, 'colsample_bylevel': 0.07804657895504225, 'depth': 6, 'boosting_type': 'Plain', 'bootstrap_type': 'MVS', 'min_data_in_leaf': 5, 'one_hot_max_size': 17}. Best is trial 2 with value: 1.617562370183626.\u001b[0m\n"
     ]
    },
    {
     "name": "stdout",
     "output_type": "stream",
     "text": [
      "2016, RMSE: 1.618\n",
      "\n",
      "2019, RMSE: 1.743\n",
      "2018, RMSE: 1.716\n",
      "2017, RMSE: 1.670\n"
     ]
    },
    {
     "name": "stderr",
     "output_type": "stream",
     "text": [
      "\u001b[32m[I 2022-04-20 20:04:19,800]\u001b[0m Trial 3 finished with value: 1.6243594399551091 and parameters: {'n_estimators': 2911, 'loss_function': 'RMSE', 'learning_rate': 0.24736338204582786, 'l2_leaf_reg': 0.5509970353306356, 'colsample_bylevel': 0.07459418758917044, 'depth': 3, 'boosting_type': 'Ordered', 'bootstrap_type': 'MVS', 'min_data_in_leaf': 10, 'one_hot_max_size': 16}. Best is trial 2 with value: 1.617562370183626.\u001b[0m\n"
     ]
    },
    {
     "name": "stdout",
     "output_type": "stream",
     "text": [
      "2016, RMSE: 1.624\n",
      "\n",
      "2019, RMSE: 1.737\n",
      "2018, RMSE: 1.724\n",
      "2017, RMSE: 1.670\n"
     ]
    },
    {
     "name": "stderr",
     "output_type": "stream",
     "text": [
      "\u001b[32m[I 2022-04-20 20:13:31,517]\u001b[0m Trial 4 finished with value: 1.6153788928318313 and parameters: {'n_estimators': 4690, 'loss_function': 'MAE', 'learning_rate': 0.01816964221112045, 'l2_leaf_reg': 0.21847796964856234, 'colsample_bylevel': 0.07052827997130239, 'depth': 3, 'boosting_type': 'Ordered', 'bootstrap_type': 'Bayesian', 'min_data_in_leaf': 2, 'one_hot_max_size': 13}. Best is trial 4 with value: 1.6153788928318313.\u001b[0m\n"
     ]
    },
    {
     "name": "stdout",
     "output_type": "stream",
     "text": [
      "2016, RMSE: 1.615\n",
      "\n",
      "2019, RMSE: 1.776\n",
      "2018, RMSE: 1.740\n",
      "2017, RMSE: 1.686\n"
     ]
    },
    {
     "name": "stderr",
     "output_type": "stream",
     "text": [
      "\u001b[32m[I 2022-04-20 20:15:00,256]\u001b[0m Trial 5 finished with value: 1.6339324138615565 and parameters: {'n_estimators': 3444, 'loss_function': 'MAE', 'learning_rate': 0.15571906288032447, 'l2_leaf_reg': 0.6177236881760219, 'colsample_bylevel': 0.022065507771208727, 'depth': 2, 'boosting_type': 'Ordered', 'bootstrap_type': 'MVS', 'min_data_in_leaf': 2, 'one_hot_max_size': 3}. Best is trial 4 with value: 1.6153788928318313.\u001b[0m\n"
     ]
    },
    {
     "name": "stdout",
     "output_type": "stream",
     "text": [
      "2016, RMSE: 1.634\n",
      "\n",
      "2019, RMSE: 1.737\n",
      "2018, RMSE: 1.709\n",
      "2017, RMSE: 1.657\n"
     ]
    },
    {
     "name": "stderr",
     "output_type": "stream",
     "text": [
      "\u001b[32m[I 2022-04-20 20:23:20,607]\u001b[0m Trial 6 finished with value: 1.6090459926264473 and parameters: {'n_estimators': 3372, 'loss_function': 'RMSE', 'learning_rate': 0.018124470795854327, 'l2_leaf_reg': 0.5992324216820445, 'colsample_bylevel': 0.06584578982175233, 'depth': 7, 'boosting_type': 'Ordered', 'bootstrap_type': 'MVS', 'min_data_in_leaf': 2, 'one_hot_max_size': 3}. Best is trial 6 with value: 1.6090459926264473.\u001b[0m\n"
     ]
    },
    {
     "name": "stdout",
     "output_type": "stream",
     "text": [
      "2016, RMSE: 1.609\n",
      "\n",
      "2019, RMSE: 1.736\n",
      "2018, RMSE: 1.715\n",
      "2017, RMSE: 1.661\n"
     ]
    },
    {
     "name": "stderr",
     "output_type": "stream",
     "text": [
      "\u001b[32m[I 2022-04-20 20:24:02,194]\u001b[0m Trial 7 finished with value: 1.614551439506861 and parameters: {'n_estimators': 3224, 'loss_function': 'RMSE', 'learning_rate': 0.012260700717896577, 'l2_leaf_reg': 0.1015911883043855, 'colsample_bylevel': 0.09822845227429942, 'depth': 3, 'boosting_type': 'Plain', 'bootstrap_type': 'Bayesian', 'min_data_in_leaf': 3, 'one_hot_max_size': 18}. Best is trial 6 with value: 1.6090459926264473.\u001b[0m\n"
     ]
    },
    {
     "name": "stdout",
     "output_type": "stream",
     "text": [
      "2016, RMSE: 1.615\n",
      "\n",
      "2019, RMSE: 1.774\n",
      "2018, RMSE: 1.726\n",
      "2017, RMSE: 1.672\n"
     ]
    },
    {
     "name": "stderr",
     "output_type": "stream",
     "text": [
      "\u001b[32m[I 2022-04-20 20:25:59,964]\u001b[0m Trial 8 finished with value: 1.622462431765333 and parameters: {'n_estimators': 1468, 'loss_function': 'RMSE', 'learning_rate': 0.12584745095024966, 'l2_leaf_reg': 0.7640364110178618, 'colsample_bylevel': 0.04457125432819988, 'depth': 4, 'boosting_type': 'Ordered', 'bootstrap_type': 'Bayesian', 'min_data_in_leaf': 6, 'one_hot_max_size': 13}. Best is trial 6 with value: 1.6090459926264473.\u001b[0m\n"
     ]
    },
    {
     "name": "stdout",
     "output_type": "stream",
     "text": [
      "2016, RMSE: 1.622\n",
      "\n",
      "2019, RMSE: 1.744\n",
      "2018, RMSE: 1.716\n",
      "2017, RMSE: 1.661\n"
     ]
    },
    {
     "name": "stderr",
     "output_type": "stream",
     "text": [
      "\u001b[32m[I 2022-04-20 20:29:04,119]\u001b[0m Trial 9 finished with value: 1.6259998129555566 and parameters: {'n_estimators': 4405, 'loss_function': 'RMSE', 'learning_rate': 0.001033014144330719, 'l2_leaf_reg': 0.10000168578567854, 'colsample_bylevel': 0.0928655719506299, 'depth': 2, 'boosting_type': 'Ordered', 'bootstrap_type': 'MVS', 'min_data_in_leaf': 18, 'one_hot_max_size': 6}. Best is trial 6 with value: 1.6090459926264473.\u001b[0m\n"
     ]
    },
    {
     "name": "stdout",
     "output_type": "stream",
     "text": [
      "2016, RMSE: 1.626\n",
      "\n",
      "2019, RMSE: 1.903\n",
      "2018, RMSE: 1.864\n",
      "2017, RMSE: 1.793\n"
     ]
    },
    {
     "name": "stderr",
     "output_type": "stream",
     "text": [
      "\u001b[32m[I 2022-04-20 20:39:36,500]\u001b[0m Trial 10 finished with value: 1.787545798691918 and parameters: {'n_estimators': 1882, 'loss_function': 'RMSE', 'learning_rate': 2.3676073811144295e-05, 'l2_leaf_reg': 0.2823714441507256, 'colsample_bylevel': 0.03011192169295769, 'depth': 10, 'boosting_type': 'Ordered', 'bootstrap_type': 'Bernoulli', 'min_data_in_leaf': 12, 'one_hot_max_size': 2}. Best is trial 6 with value: 1.6090459926264473.\u001b[0m\n"
     ]
    },
    {
     "name": "stdout",
     "output_type": "stream",
     "text": [
      "2016, RMSE: 1.788\n",
      "\n"
     ]
    }
   ],
   "source": [
    "study = optuna.create_study(direction=\"minimize\", study_name=\"Catboost Regressor\")\n",
    "func = lambda trial: objective(trial, box, features, split['year_split'])\n",
    "study.optimize(func, n_trials=20, timeout=60*60) ## one hour"
   ]
  },
  {
   "cell_type": "code",
   "execution_count": 18,
   "metadata": {
    "colab": {
     "base_uri": "https://localhost:8080/"
    },
    "executionInfo": {
     "elapsed": 14,
     "status": "ok",
     "timestamp": 1643195929851,
     "user": {
      "displayName": "Aleksandra Skachkova",
      "photoUrl": "https://lh3.googleusercontent.com/a/default-user=s64",
      "userId": "00039765151104455837"
     },
     "user_tz": -180
    },
    "id": "QFc4zyH2h8r7",
    "outputId": "18792408-3c12-47e0-f758-f66920bd5741"
   },
   "outputs": [
    {
     "name": "stdout",
     "output_type": "stream",
     "text": [
      "\tBest value (rmse): 1.60905\n",
      "\tBest params:\n",
      "\t\tn_estimators: 3372\n",
      "\t\tloss_function: RMSE\n",
      "\t\tlearning_rate: 0.018124470795854327\n",
      "\t\tl2_leaf_reg: 0.5992324216820445\n",
      "\t\tcolsample_bylevel: 0.06584578982175233\n",
      "\t\tdepth: 7\n",
      "\t\tboosting_type: Ordered\n",
      "\t\tbootstrap_type: MVS\n",
      "\t\tmin_data_in_leaf: 2\n",
      "\t\tone_hot_max_size: 3\n"
     ]
    }
   ],
   "source": [
    "\n",
    "print(f\"\\tBest value (rmse): {study.best_value:.5f}\")\n",
    "print(f\"\\tBest params:\")\n",
    "\n",
    "for key, value in study.best_params.items():\n",
    "    print(f\"\\t\\t{key}: {value}\")"
   ]
  },
  {
   "cell_type": "code",
   "execution_count": 21,
   "metadata": {},
   "outputs": [],
   "source": [
    "with open('./csv/catboost_optuna.json', 'w') as file:\n",
    "    json.dump(study.best_params, file)"
   ]
  },
  {
   "cell_type": "code",
   "execution_count": null,
   "metadata": {},
   "outputs": [],
   "source": []
  }
 ],
 "metadata": {
  "colab": {
   "authorship_tag": "ABX9TyNmvENe4ycGaefim9J+bGXj",
   "collapsed_sections": [],
   "name": "LightGBMParametersSplit1000m.ipynb",
   "provenance": []
  },
  "kernelspec": {
   "display_name": "Python [conda env:ml] *",
   "language": "python",
   "name": "conda-env-ml-py"
  },
  "language_info": {
   "codemirror_mode": {
    "name": "ipython",
    "version": 3
   },
   "file_extension": ".py",
   "mimetype": "text/x-python",
   "name": "python",
   "nbconvert_exporter": "python",
   "pygments_lexer": "ipython3",
   "version": "3.10.2"
  }
 },
 "nbformat": 4,
 "nbformat_minor": 4
}
